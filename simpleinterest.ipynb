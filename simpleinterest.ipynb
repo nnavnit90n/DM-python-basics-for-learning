{
 "cells": [
  {
   "cell_type": "code",
   "execution_count": 7,
   "metadata": {},
   "outputs": [
    {
     "name": "stdout",
     "output_type": "stream",
     "text": [
      "enter the principal amount :500\n",
      "enter the rate :2\n",
      "enter the time period :1\n",
      "Simple interest is :\n",
      "10.0\n",
      "Compound interest is :\n",
      "510.0\n"
     ]
    },
    {
     "data": {
      "text/plain": [
       "510.0"
      ]
     },
     "execution_count": 7,
     "metadata": {},
     "output_type": "execute_result"
    }
   ],
   "source": [
    "def SI(p,r,t):\n",
    "    simp=(p*r*t)/100\n",
    "    print(simp)\n",
    "    return(simp)\n",
    "def CI(p,r,t):\n",
    "    compound =  p*(pow((1 + r/100),t))\n",
    "    print(compound)\n",
    "    return(compound)\n",
    "#def CI(p,SI):\n",
    " #   compound=p+SI\n",
    "  #  print(compound)\n",
    "   # return(compound)\n",
    "pa=float(input(\"enter the principal amount :\"))\n",
    "ra=float(input(\"enter the rate :\"))\n",
    "ti=float(input(\"enter the time period :\"))\n",
    "\n",
    "print(\"Simple interest is :\")\n",
    "SI(pa,ra,ti)\n",
    "print(\"Compound interest is :\")\n",
    "CI(pa,ra,ti)\n",
    "\n"
   ]
  },
  {
   "cell_type": "code",
   "execution_count": null,
   "metadata": {},
   "outputs": [],
   "source": []
  }
 ],
 "metadata": {
  "kernelspec": {
   "display_name": "Python 3",
   "language": "python",
   "name": "python3"
  },
  "language_info": {
   "codemirror_mode": {
    "name": "ipython",
    "version": 3
   },
   "file_extension": ".py",
   "mimetype": "text/x-python",
   "name": "python",
   "nbconvert_exporter": "python",
   "pygments_lexer": "ipython3",
   "version": "3.7.4"
  }
 },
 "nbformat": 4,
 "nbformat_minor": 2
}
