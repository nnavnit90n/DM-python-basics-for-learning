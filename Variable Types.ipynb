{
 "cells": [
  {
   "cell_type": "markdown",
   "metadata": {},
   "source": [
    "# Assinnig values to variable\n"
   ]
  },
  {
   "cell_type": "code",
   "execution_count": 1,
   "metadata": {},
   "outputs": [
    {
     "name": "stdout",
     "output_type": "stream",
     "text": [
      "100\n",
      "1000.0\n",
      "John\n"
     ]
    }
   ],
   "source": [
    "counter =100   #interger assing\n",
    "miles=1000.0      #A float assing\n",
    "name=\"John\"        # A string assing\n",
    "print(counter)\n",
    "print(miles)\n",
    "print(name)"
   ]
  },
  {
   "cell_type": "code",
   "execution_count": 2,
   "metadata": {},
   "outputs": [
    {
     "name": "stdout",
     "output_type": "stream",
     "text": [
      "1\n"
     ]
    }
   ],
   "source": [
    "#multiple assingment\n",
    "#single value to several variables\n",
    "a=b=c=1\n",
    "print(a)"
   ]
  },
  {
   "cell_type": "code",
   "execution_count": 3,
   "metadata": {},
   "outputs": [
    {
     "name": "stdout",
     "output_type": "stream",
     "text": [
      "(1, 2, 'John')\n"
     ]
    }
   ],
   "source": [
    "#multiple value to several variables\n",
    "a=b=c=1,2,\"John\"\n",
    "print(a)"
   ]
  },
  {
   "cell_type": "markdown",
   "metadata": {},
   "source": [
    "# Standard data types\n",
    "           1. NUMBERS\n",
    "           2.STRING\n",
    "           3.LIST\n",
    "           4.TUPLE\n",
    "           5.DICTIONARY"
   ]
  },
  {
   "cell_type": "code",
   "execution_count": 4,
   "metadata": {},
   "outputs": [],
   "source": [
    "var1 = 1.1545\n",
    "var2 = 2\n",
    "var3 =3"
   ]
  },
  {
   "cell_type": "code",
   "execution_count": 5,
   "metadata": {},
   "outputs": [
    {
     "name": "stdout",
     "output_type": "stream",
     "text": [
      "1.1545 2 3\n"
     ]
    }
   ],
   "source": [
    "print(var1,var2,var3)"
   ]
  },
  {
   "cell_type": "markdown",
   "metadata": {},
   "source": [
    "# delete operator"
   ]
  },
  {
   "cell_type": "code",
   "execution_count": 6,
   "metadata": {},
   "outputs": [],
   "source": [
    "del var1,var2,var3"
   ]
  },
  {
   "cell_type": "markdown",
   "metadata": {},
   "source": [
    "# py support three different numerical types\n",
    "1. INT(SIGNED INTEGER)\n",
    "2.FLOAT (FLOATING POINTS REAL VALUES)\n",
    "3.COMPLEX(COMPLEX NUMBERS)"
   ]
  },
  {
   "cell_type": "markdown",
   "metadata": {},
   "source": [
    "# PY STRINGS"
   ]
  },
  {
   "cell_type": "code",
   "execution_count": 7,
   "metadata": {},
   "outputs": [
    {
     "name": "stdout",
     "output_type": "stream",
     "text": [
      "Hello Babu Lal\n",
      "H\n",
      "e\n",
      "l\n",
      "l\n",
      "o\n",
      "llo\n",
      "llo Babu Lal\n",
      "Hello Babu LalHello Babu Lal\n",
      "Hello Babu LalMarandi\n"
     ]
    }
   ],
   "source": [
    "str ='Hello Babu Lal'\n",
    "print(str)\n",
    "print(str[0])\n",
    "print(str[1])\n",
    "print(str[2])\n",
    "print(str[3])\n",
    "print(str[4])\n",
    "print(str[2:5]) #char strating from 3 to 5th\n",
    "print(str[2:])  #char starting from 3 rd character\n",
    "print(str*2)    # print string double time\n",
    "print(str + \"Marandi\")# print concatenated string"
   ]
  },
  {
   "cell_type": "markdown",
   "metadata": {},
   "source": [
    "# pythonma list"
   ]
  },
  {
   "cell_type": "code",
   "execution_count": 8,
   "metadata": {},
   "outputs": [
    {
     "name": "stdout",
     "output_type": "stream",
     "text": [
      "abcd\n",
      "[345, 2.23]\n",
      "[2.23, 'johnwa', 70.2]\n",
      "['abcd', 345, 2.23, 'johnwa', 70.2, 'abcd', 345, 2.23, 'johnwa', 70.2]\n",
      "[12, 'johnu']\n",
      "['abcd', 345, 2.23, 'johnwa', 70.2, 12, 'johnu']\n"
     ]
    }
   ],
   "source": [
    "list =['abcd',345,2.23,'johnwa',70.2]\n",
    "tinylist=[12,'johnu']\n",
    "print(list[0])\n",
    "print(list[1:3])\n",
    "print(list[2:])\n",
    "print(list*2)\n",
    "print(tinylist)\n",
    "print(list + tinylist)"
   ]
  },
  {
   "cell_type": "markdown",
   "metadata": {},
   "source": [
    "# python tuples"
   ]
  },
  {
   "cell_type": "code",
   "execution_count": 9,
   "metadata": {},
   "outputs": [
    {
     "name": "stdout",
     "output_type": "stream",
     "text": [
      "('abcd', '786', 2.23, 'john', 70.2)\n",
      "abcd\n",
      "('786', 2.23)\n",
      "(2.23, 'john', 70.2)\n",
      "('abcd', '786', 2.23, 'john', 70.2, 'abcd', '786', 2.23, 'john', 70.2)\n",
      "(123, 'john', 123, 'john')\n",
      "('abcd', '786', 2.23, 'john', 70.2, 123, 'john')\n"
     ]
    }
   ],
   "source": [
    "tuple=('abcd','786',2.23,'john',70.2)\n",
    "tinytuple=(123,'john')\n",
    "print(tuple)\n",
    "print(tuple[0])\n",
    "print(tuple[1:3])\n",
    "print(tuple[2:])\n",
    "print(tuple*2)\n",
    "print(tinytuple*2)\n",
    "print(tuple + tinytuple)"
   ]
  },
  {
   "cell_type": "code",
   "execution_count": 10,
   "metadata": {},
   "outputs": [
    {
     "name": "stdout",
     "output_type": "stream",
     "text": [
      "['sscs', 786, 2.36, 'ram', 70]\n",
      "('dsdsd', 456, 2.22, 'jay', 80.236)\n",
      "['sscs', 786, 789564, 'ram', 70]\n"
     ]
    },
    {
     "ename": "TypeError",
     "evalue": "'tuple' object does not support item assignment",
     "output_type": "error",
     "traceback": [
      "\u001b[1;31m---------------------------------------------------------------------------\u001b[0m",
      "\u001b[1;31mTypeError\u001b[0m                                 Traceback (most recent call last)",
      "\u001b[1;32m<ipython-input-10-aa6bf74cf074>\u001b[0m in \u001b[0;36m<module>\u001b[1;34m\u001b[0m\n\u001b[0;32m      5\u001b[0m \u001b[0mlist\u001b[0m\u001b[1;33m[\u001b[0m\u001b[1;36m2\u001b[0m\u001b[1;33m]\u001b[0m\u001b[1;33m=\u001b[0m\u001b[1;36m789564\u001b[0m  \u001b[1;31m# succesfully assing the new value to variable\u001b[0m\u001b[1;33m\u001b[0m\u001b[1;33m\u001b[0m\u001b[0m\n\u001b[0;32m      6\u001b[0m \u001b[0mprint\u001b[0m\u001b[1;33m(\u001b[0m\u001b[0mlist\u001b[0m\u001b[1;33m)\u001b[0m\u001b[1;33m\u001b[0m\u001b[1;33m\u001b[0m\u001b[0m\n\u001b[1;32m----> 7\u001b[1;33m \u001b[0mtuplu\u001b[0m\u001b[1;33m[\u001b[0m\u001b[1;36m2\u001b[0m\u001b[1;33m]\u001b[0m\u001b[1;33m=\u001b[0m\u001b[1;36m555445\u001b[0m   \u001b[1;31m# not possible to assingb in tuples\u001b[0m\u001b[1;33m\u001b[0m\u001b[1;33m\u001b[0m\u001b[0m\n\u001b[0m\u001b[0;32m      8\u001b[0m \u001b[0mprint\u001b[0m\u001b[1;33m(\u001b[0m\u001b[0mtuplu\u001b[0m\u001b[1;33m)\u001b[0m\u001b[1;33m\u001b[0m\u001b[1;33m\u001b[0m\u001b[0m\n",
      "\u001b[1;31mTypeError\u001b[0m: 'tuple' object does not support item assignment"
     ]
    }
   ],
   "source": [
    "list=['sscs',786,2.36,'ram',70]\n",
    "print(list)\n",
    "tuplu=('dsdsd',456,2.22,'jay',80.236)\n",
    "print(tuplu)\n",
    "list[2]=789564  # succesfully assing the new value to variable\n",
    "print(list)\n",
    "tuplu[2]=555445   # not possible to assingb in tuples\n",
    "print(tuplu)"
   ]
  },
  {
   "cell_type": "markdown",
   "metadata": {},
   "source": [
    "# python dictionary"
   ]
  },
  {
   "cell_type": "code",
   "execution_count": 2,
   "metadata": {},
   "outputs": [
    {
     "name": "stdout",
     "output_type": "stream",
     "text": [
      "this is one\n",
      "this is two\n",
      "{'name': 'john', 'code': 6734, 'dept': 'sales'}\n"
     ]
    }
   ],
   "source": [
    " dict={}\n",
    "dict[1]=\"this is one\"\n",
    "dict[2]=\"this is two\"\n",
    "tinydict={'name':'john','code':6734,'dept':'sales'}\n",
    "print(dict[1])\n",
    "print(dict[2])\n",
    "print(tinydict)"
   ]
  },
  {
   "cell_type": "code",
   "execution_count": 12,
   "metadata": {},
   "outputs": [
    {
     "name": "stdout",
     "output_type": "stream",
     "text": [
      "{'name': 'john', 'branch': 'cmps', 'rool': 16, 'college': 'sipna'}\n",
      "dict_keys(['name', 'branch', 'rool', 'college'])\n",
      "dict_values(['john', 'cmps', 16, 'sipna'])\n"
     ]
    }
   ],
   "source": [
    "dict={'name':'john','branch':'cmps','rool':16,'college':'sipna'}\n",
    "print (dict)\n",
    "print (dict.keys())\n",
    "print (dict.values())\n"
   ]
  },
  {
   "cell_type": "markdown",
   "metadata": {},
   "source": [
    "# operator in python\n"
   ]
  },
  {
   "cell_type": "markdown",
   "metadata": {},
   "source": [
    "# arthemetic operator"
   ]
  },
  {
   "cell_type": "code",
   "execution_count": 13,
   "metadata": {},
   "outputs": [
    {
     "name": "stdout",
     "output_type": "stream",
     "text": [
      "50\n",
      "10\n",
      "600\n",
      "1.5\n"
     ]
    }
   ],
   "source": [
    "a=20\n",
    "b=30\n",
    "c=0\n",
    "c=a+b\n",
    "print(c)\n",
    "c=b-a\n",
    "print(c)\n",
    "c=a*b\n",
    "print(c)\n",
    "c=b/a\n",
    "print(c)"
   ]
  },
  {
   "cell_type": "markdown",
   "metadata": {},
   "source": [
    "# relational operator/comparisional operator"
   ]
  },
  {
   "cell_type": "code",
   "execution_count": 14,
   "metadata": {},
   "outputs": [
    {
     "name": "stdout",
     "output_type": "stream",
     "text": [
      "this is not correct\n",
      " a is not equal to b\n",
      "a is greater than b\n",
      "here a is greater thaan  b\n"
     ]
    }
   ],
   "source": [
    "a= 21\n",
    "b=10\n",
    "if(a==b):\n",
    "    print(\"it is correct\")\n",
    "else:\n",
    "    print(\"this is not correct\")\n",
    "if(a!=b):\n",
    "    print(\" a is not equal to b\")\n",
    "else:\n",
    "    print(\"a is eual to b\")\n",
    "if(a<b):\n",
    "    print(\"here a isless than b\")\n",
    "else:\n",
    "    print(\"a is greater than b\")\n",
    "if(a>b):\n",
    "    print(\"here a is greater thaan  b\")\n",
    "else:\n",
    "    print(\"here a is less than b\")"
   ]
  },
  {
   "cell_type": "markdown",
   "metadata": {},
   "source": [
    "# assingment operator"
   ]
  },
  {
   "cell_type": "code",
   "execution_count": 15,
   "metadata": {},
   "outputs": [
    {
     "name": "stdout",
     "output_type": "stream",
     "text": [
      "line 1 _ value of c is  31\n",
      "line 2 _ value of c is  52\n",
      "line 3 _ value of c is  1092\n",
      "line 4 _ value of c is  52.0\n",
      "line 5 _ value of c is  2\n",
      "line 6 _ value of c is  2\n",
      "line 7 _ value of c is  2097152\n",
      "line 8 _ value of c is  99864\n"
     ]
    }
   ],
   "source": [
    "a=21\n",
    "b=10\n",
    "c=0\n",
    "c=a+b\n",
    "print(\"line 1 _ value of c is \",c)\n",
    "c+=a\n",
    "print(\"line 2 _ value of c is \",c)\n",
    "c*=a\n",
    "print(\"line 3 _ value of c is \",c)\n",
    "c/=a\n",
    "print(\"line 4 _ value of c is \",c)\n",
    "\n",
    "c=2\n",
    "print(\"line 5 _ value of c is \",c)\n",
    "c%=a\n",
    "print(\"line 6 _ value of c is \",c)\n",
    "c**=a\n",
    "print(\"line 7 _ value of c is \",c)\n",
    "c//=a\n",
    "print(\"line 8 _ value of c is \",c)"
   ]
  },
  {
   "cell_type": "markdown",
   "metadata": {},
   "source": [
    "# python membership operator"
   ]
  },
  {
   "cell_type": "code",
   "execution_count": 16,
   "metadata": {},
   "outputs": [
    {
     "name": "stdout",
     "output_type": "stream",
     "text": [
      "line 1- a is not available in the given list\n",
      "line 2 - b is  not available in the given list\n",
      "line 3 - c is available in the given list\n"
     ]
    }
   ],
   "source": [
    "a=10\n",
    "b=20\n",
    "list=[1,2,3,4,5]\n",
    "if(a in list):\n",
    "    print(\"line 1 - a is available in the given list\")\n",
    "else:\n",
    "    print(\"line 1- a is not available in the given list\")\n",
    "if(b not in list):\n",
    "    print(\"line 2 - b is  not available in the given list\")\n",
    "else:\n",
    "    print(\"line 2- b is  available in the given list\")\n",
    "c=b/a\n",
    "if(c in list):\n",
    "    print(\"line 3 - c is available in the given list\")\n",
    "else:\n",
    "    print(\"line 3- c is not available in the given list\")\n",
    "\n"
   ]
  },
  {
   "cell_type": "markdown",
   "metadata": {},
   "source": [
    "# python identity operator\n"
   ]
  },
  {
   "cell_type": "code",
   "execution_count": 17,
   "metadata": {},
   "outputs": [
    {
     "name": "stdout",
     "output_type": "stream",
     "text": [
      "Line 1 a= 10 : 140734205436592 b= 20 : 140734205436912\n",
      "Line 2 - a and b do not have same identity\n"
     ]
    }
   ],
   "source": [
    "a=10\n",
    "b=20\n",
    "print('Line 1','a=',a,':',id(a),'b=',b,':',id(b))\n",
    "if (a is b):\n",
    "    print(\"Line 2 - a and b have same identity\")\n",
    "else:\n",
    "    print(\"Line 2 - a and b do not have same identity\")\n",
    "if(id(a)==id(b)):\n",
    "    print(\"Line 3 - a and b do not have same identity\")\n"
   ]
  },
  {
   "cell_type": "markdown",
   "metadata": {},
   "source": [
    "# decision making\n",
    "# if condition"
   ]
  },
  {
   "cell_type": "code",
   "execution_count": 18,
   "metadata": {},
   "outputs": [
    {
     "name": "stdout",
     "output_type": "stream",
     "text": [
      "1 -Got a true exp value\n",
      "100\n",
      "good bye\n"
     ]
    }
   ],
   "source": [
    "var1=100\n",
    "if var1:\n",
    "    print(\"1 -Got a true exp value\")\n",
    "    print(var1)\n",
    "var2=0\n",
    "if var2:\n",
    "    print(\"2 - Got  a true expression\")\n",
    "    print(var2)\n",
    "print(\"good bye\")"
   ]
  },
  {
   "cell_type": "markdown",
   "metadata": {},
   "source": [
    "# if...elif....else"
   ]
  },
  {
   "cell_type": "code",
   "execution_count": 19,
   "metadata": {},
   "outputs": [
    {
     "name": "stdout",
     "output_type": "stream",
     "text": [
      "Enter the amount:5000\n",
      "discount 500.0\n",
      "Net payable: 4500.0\n"
     ]
    }
   ],
   "source": [
    "amount=int(input('Enter the amount:'))\n",
    "if amount<1000:\n",
    "    discount=amount*0.05\n",
    "    print(\"Discount\",discount)\n",
    "else:\n",
    "    discount=amount*0.10\n",
    "    print(\"discount\",discount)\n",
    "print(\"Net payable:\",amount-discount)"
   ]
  },
  {
   "cell_type": "markdown",
   "metadata": {},
   "source": [
    "# elif"
   ]
  },
  {
   "cell_type": "code",
   "execution_count": 20,
   "metadata": {},
   "outputs": [
    {
     "name": "stdout",
     "output_type": "stream",
     "text": [
      "enter the amount:5600\n",
      "Discount is : 1120.0\n"
     ]
    }
   ],
   "source": [
    "amount=int(input(\"enter the amount:\"))\n",
    "if amount<1000:\n",
    "    dis=amount*0.05\n",
    "    print(\"Discount is :\", dis)\n",
    "elif amount<2500:\n",
    "    dis=amount*0.10\n",
    "    print(\"Discount\",dis)\n",
    "elif amount<5000:\n",
    "    dis=amount*0.15\n",
    "    print(\"Discount\",dis)\n",
    "elif amount<7500:\n",
    "    dis=amount*0.2\n",
    "    print(\"Discount is :\",dis)\n",
    "else:\n",
    "    dis=amount*0.25\n",
    "    print(\"Discount is\",dis)"
   ]
  },
  {
   "cell_type": "code",
   "execution_count": 21,
   "metadata": {},
   "outputs": [
    {
     "name": "stdout",
     "output_type": "stream",
     "text": [
      "enter the number:  9\n",
      "number is divible by 3 not by 2\n"
     ]
    }
   ],
   "source": [
    "num=int(input('enter the number:  '))\n",
    "if num%2==0:\n",
    "    if(num%3==0):\n",
    "        print(\"number is divible by 3 and 2\")\n",
    "    else:\n",
    "        print(\"no is divisible by 2 but not by 3\")\n",
    "else:\n",
    "    if(num%3==0):\n",
    "        print(\"number is divible by 3 not by 2\")\n",
    "    else:\n",
    "        print(\"no is not divisible by 2 and not divisible  by 3\")"
   ]
  },
  {
   "cell_type": "markdown",
   "metadata": {},
   "source": [
    "# single statement Suites"
   ]
  },
  {
   "cell_type": "code",
   "execution_count": 22,
   "metadata": {},
   "outputs": [
    {
     "name": "stdout",
     "output_type": "stream",
     "text": [
      "value of expression is 100\n",
      "good bye\n"
     ]
    }
   ],
   "source": [
    "var =100\n",
    "if (var==100):\n",
    "    print(\"value of expression is 100\")\n",
    "print(\"good bye\")    "
   ]
  },
  {
   "cell_type": "markdown",
   "metadata": {},
   "source": [
    "# loops\n",
    " 1.while 2.for 3.nested"
   ]
  },
  {
   "cell_type": "code",
   "execution_count": 23,
   "metadata": {},
   "outputs": [
    {
     "name": "stdout",
     "output_type": "stream",
     "text": [
      "the count is: 0\n",
      "the count is: 1\n",
      "the count is: 2\n",
      "the count is: 3\n",
      "the count is: 4\n",
      "the count is: 5\n",
      "the count is: 6\n",
      "the count is: 7\n",
      "the count is: 8\n",
      "goooood bye!\n"
     ]
    }
   ],
   "source": [
    "count=0\n",
    "while(count<9):\n",
    "    print(\"the count is:\",count)\n",
    "    count= count+1\n",
    "print(\"goooood bye!\")"
   ]
  },
  {
   "cell_type": "code",
   "execution_count": 24,
   "metadata": {},
   "outputs": [
    {
     "name": "stdout",
     "output_type": "stream",
     "text": [
      "enter the number:5\n",
      "you enetered the num:  5\n",
      "enter the number:\n"
     ]
    },
    {
     "ename": "ValueError",
     "evalue": "invalid literal for int() with base 10: ''",
     "output_type": "error",
     "traceback": [
      "\u001b[1;31m---------------------------------------------------------------------------\u001b[0m",
      "\u001b[1;31mValueError\u001b[0m                                Traceback (most recent call last)",
      "\u001b[1;32m<ipython-input-24-1cd18828436a>\u001b[0m in \u001b[0;36m<module>\u001b[1;34m\u001b[0m\n\u001b[0;32m      1\u001b[0m \u001b[0mvar\u001b[0m\u001b[1;33m=\u001b[0m\u001b[1;36m1\u001b[0m\u001b[1;33m\u001b[0m\u001b[1;33m\u001b[0m\u001b[0m\n\u001b[0;32m      2\u001b[0m \u001b[1;32mwhile\u001b[0m\u001b[1;33m(\u001b[0m\u001b[0mvar\u001b[0m\u001b[1;33m==\u001b[0m\u001b[1;36m1\u001b[0m\u001b[1;33m)\u001b[0m\u001b[1;33m:\u001b[0m\u001b[1;33m\u001b[0m\u001b[1;33m\u001b[0m\u001b[0m\n\u001b[1;32m----> 3\u001b[1;33m     \u001b[0mnum\u001b[0m\u001b[1;33m=\u001b[0m\u001b[0mint\u001b[0m\u001b[1;33m(\u001b[0m\u001b[0minput\u001b[0m\u001b[1;33m(\u001b[0m\u001b[1;34m\"enter the number:\"\u001b[0m\u001b[1;33m)\u001b[0m\u001b[1;33m)\u001b[0m\u001b[1;33m\u001b[0m\u001b[1;33m\u001b[0m\u001b[0m\n\u001b[0m\u001b[0;32m      4\u001b[0m     \u001b[0mprint\u001b[0m\u001b[1;33m(\u001b[0m\u001b[1;34m\"you enetered the num: \"\u001b[0m\u001b[1;33m,\u001b[0m\u001b[0mnum\u001b[0m\u001b[1;33m)\u001b[0m\u001b[1;33m\u001b[0m\u001b[1;33m\u001b[0m\u001b[0m\n\u001b[0;32m      5\u001b[0m \u001b[0mprint\u001b[0m\u001b[1;33m(\u001b[0m\u001b[1;34m\"good bye\"\u001b[0m\u001b[1;33m)\u001b[0m\u001b[1;33m\u001b[0m\u001b[1;33m\u001b[0m\u001b[0m\n",
      "\u001b[1;31mValueError\u001b[0m: invalid literal for int() with base 10: ''"
     ]
    }
   ],
   "source": [
    "var=1\n",
    "while(var==1):\n",
    "    num=int(input(\"enter the number:\"))\n",
    "    print(\"you enetered the num: \",num)\n",
    "print(\"good bye\")"
   ]
  },
  {
   "cell_type": "markdown",
   "metadata": {},
   "source": [
    "# for loop"
   ]
  },
  {
   "cell_type": "code",
   "execution_count": 28,
   "metadata": {},
   "outputs": [
    {
     "data": {
      "text/plain": [
       "range(0, 5)"
      ]
     },
     "execution_count": 28,
     "metadata": {},
     "output_type": "execute_result"
    }
   ],
   "source": [
    "range(5)"
   ]
  },
  {
   "cell_type": "code",
   "execution_count": 31,
   "metadata": {},
   "outputs": [
    {
     "ename": "SyntaxError",
     "evalue": "invalid syntax (<ipython-input-31-205b0677af7b>, line 2)",
     "output_type": "error",
     "traceback": [
      "\u001b[1;36m  File \u001b[1;32m\"<ipython-input-31-205b0677af7b>\"\u001b[1;36m, line \u001b[1;32m2\u001b[0m\n\u001b[1;33m    for var in list(range(5))\u001b[0m\n\u001b[1;37m                             ^\u001b[0m\n\u001b[1;31mSyntaxError\u001b[0m\u001b[1;31m:\u001b[0m invalid syntax\n"
     ]
    }
   ],
   "source": [
    "list(range(5))\n",
    "for var in list(range(5))\n",
    "print(var)"
   ]
  },
  {
   "cell_type": "code",
   "execution_count": 35,
   "metadata": {},
   "outputs": [
    {
     "name": "stdout",
     "output_type": "stream",
     "text": [
      "Current fruit : banana\n",
      "Current fruit : mango\n",
      "Current fruit : apple\n",
      "Good bye!\n"
     ]
    }
   ],
   "source": [
    "fruits=['banana','mango','apple']\n",
    "for index in range(len(fruits)):\n",
    "    print(\"Current fruit :\", fruits[index])\n",
    "print(\"Good bye!\")"
   ]
  },
  {
   "cell_type": "code",
   "execution_count": 38,
   "metadata": {},
   "outputs": [
    {
     "name": "stdout",
     "output_type": "stream",
     "text": [
      "the list contains an even number\n"
     ]
    }
   ],
   "source": [
    "num=[11,22,33,44,55,66,77,88,99]\n",
    "for n in num:\n",
    "    if n%2==0:\n",
    "        print('the list contains an even number')\n",
    "        break\n",
    "else:\n",
    "    print('the list does not contain even number')"
   ]
  },
  {
   "cell_type": "code",
   "execution_count": 39,
   "metadata": {},
   "outputs": [
    {
     "name": "stdout",
     "output_type": "stream",
     "text": [
      "1 \n",
      "2 \n",
      "3 \n",
      "4 \n",
      "5 \n",
      "6 \n",
      "7 \n",
      "8 \n",
      "9 \n",
      "10 \n",
      "2 \n",
      "4 \n",
      "6 \n",
      "8 \n",
      "10 \n",
      "12 \n",
      "14 \n",
      "16 \n",
      "18 \n",
      "20 \n",
      "3 \n",
      "6 \n",
      "9 \n",
      "12 \n",
      "15 \n",
      "18 \n",
      "21 \n",
      "24 \n",
      "27 \n",
      "30 \n",
      "4 \n",
      "8 \n",
      "12 \n",
      "16 \n",
      "20 \n",
      "24 \n",
      "28 \n",
      "32 \n",
      "36 \n",
      "40 \n",
      "5 \n",
      "10 \n",
      "15 \n",
      "20 \n",
      "25 \n",
      "30 \n",
      "35 \n",
      "40 \n",
      "45 \n",
      "50 \n",
      "6 \n",
      "12 \n",
      "18 \n",
      "24 \n",
      "30 \n",
      "36 \n",
      "42 \n",
      "48 \n",
      "54 \n",
      "60 \n",
      "7 \n",
      "14 \n",
      "21 \n",
      "28 \n",
      "35 \n",
      "42 \n",
      "49 \n",
      "56 \n",
      "63 \n",
      "70 \n",
      "8 \n",
      "16 \n",
      "24 \n",
      "32 \n",
      "40 \n",
      "48 \n",
      "56 \n",
      "64 \n",
      "72 \n",
      "80 \n",
      "9 \n",
      "18 \n",
      "27 \n",
      "36 \n",
      "45 \n",
      "54 \n",
      "63 \n",
      "72 \n",
      "81 \n",
      "90 \n",
      "10 \n",
      "20 \n",
      "30 \n",
      "40 \n",
      "50 \n",
      "60 \n",
      "70 \n",
      "80 \n",
      "90 \n",
      "100 \n"
     ]
    }
   ],
   "source": [
    "for i in range(1,11):\n",
    "    for j in range(1,11):\n",
    "        k=i*j\n",
    "        print(k,end=' ')\n",
    "        print()"
   ]
  },
  {
   "cell_type": "code",
   "execution_count": 44,
   "metadata": {},
   "outputs": [
    {
     "name": "stdout",
     "output_type": "stream",
     "text": [
      "2\n",
      "2 * 1 = 2\n",
      "2 * 2 = 4\n",
      "2 * 3 = 6\n",
      "2 * 4 = 8\n",
      "2 * 5 = 10\n",
      "2 * 6 = 12\n",
      "2 * 7 = 14\n",
      "2 * 8 = 16\n",
      "2 * 9 = 18\n",
      "2 * 10 = 20\n",
      "2 * 11 = 22\n",
      "2 * 12 = 24\n",
      "2 * 13 = 26\n",
      "2 * 14 = 28\n",
      "2 * 15 = 30\n",
      "2 * 16 = 32\n",
      "2 * 17 = 34\n",
      "2 * 18 = 36\n",
      "2 * 19 = 38\n",
      "2 * 20 = 40\n"
     ]
    }
   ],
   "source": [
    "t=int(input())\n",
    "for i in range(1,21):\n",
    "    print(t,'*',i,'=' ,i*t)"
   ]
  },
  {
   "cell_type": "markdown",
   "metadata": {},
   "source": [
    "# import module"
   ]
  },
  {
   "cell_type": "code",
   "execution_count": 10,
   "metadata": {},
   "outputs": [
    {
     "name": "stdout",
     "output_type": "stream",
     "text": [
      "enter the number5\n",
      "enter the second number6\n",
      "11\n"
     ]
    },
    {
     "data": {
      "text/plain": [
       "11"
      ]
     },
     "execution_count": 10,
     "metadata": {},
     "output_type": "execute_result"
    }
   ],
   "source": [
    "import import_ipynb\n",
    "import cal\n",
    "g=int(input('enter the number'))\n",
    "h=int(input('enter the second number'))\n",
    "cal.add(g,h)"
   ]
  },
  {
   "cell_type": "code",
   "execution_count": 4,
   "metadata": {},
   "outputs": [
    {
     "data": {
      "text/plain": [
       "3"
      ]
     },
     "execution_count": 4,
     "metadata": {},
     "output_type": "execute_result"
    }
   ],
   "source": [
    "l=[1,2,3,4]\n",
    "l[-2]"
   ]
  },
  {
   "cell_type": "code",
   "execution_count": null,
   "metadata": {},
   "outputs": [],
   "source": []
  }
 ],
 "metadata": {
  "kernelspec": {
   "display_name": "Python 3",
   "language": "python",
   "name": "python3"
  },
  "language_info": {
   "codemirror_mode": {
    "name": "ipython",
    "version": 3
   },
   "file_extension": ".py",
   "mimetype": "text/x-python",
   "name": "python",
   "nbconvert_exporter": "python",
   "pygments_lexer": "ipython3",
   "version": "3.7.4"
  }
 },
 "nbformat": 4,
 "nbformat_minor": 2
}
