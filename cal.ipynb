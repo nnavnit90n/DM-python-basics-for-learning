{
 "cells": [
  {
   "cell_type": "code",
   "execution_count": 7,
   "metadata": {},
   "outputs": [
    {
     "name": "stdout",
     "output_type": "stream",
     "text": [
      "add=1,sub=2,mul=3:  1\n",
      "enter the number: 1\n",
      "enter the number: 1\n",
      "2\n"
     ]
    }
   ],
   "source": [
    "def add(x,y):\n",
    "    c=x+y\n",
    "    print(c)\n",
    "    return (c)\n",
    "def sub(x,y):\n",
    "    d=x-y\n",
    "    print(d)\n",
    "    return(d)\n",
    "def mul(x,y):\n",
    "    e=x*y\n",
    "    print(e)\n",
    "    return(e)\n",
    "choice=int(input(\"add=1,sub=2,mul=3:  \"))\n",
    "t=int(input(\"enter the number: \"))\n",
    "j=int(input(\"enter the number: \"))\n",
    "if (choice==1):\n",
    "    add(t,j)\n",
    "elif(choice==2):\n",
    "    sub(t,j)\n",
    "elif(choice==3):\n",
    "    mul(t,j)\n",
    "else:\n",
    "    print(\"did not understand\")\n",
    "\n"
   ]
  },
  {
   "cell_type": "code",
   "execution_count": 1,
   "metadata": {},
   "outputs": [
    {
     "name": "stdout",
     "output_type": "stream",
     "text": [
      "importing Jupyter notebook from simpleinterest.ipynb\n",
      "enter the principal amount :500\n",
      "enter the rate :2\n",
      "enter the time period :1\n",
      "Simple interest is :\n",
      "10.0\n",
      "Compound interest is :\n",
      "510.0\n",
      "enter the princi amount:  75000\n",
      "enter the rate of interest:  6.5\n",
      "enter the time2.5\n",
      "12187.5\n"
     ]
    },
    {
     "data": {
      "text/plain": [
       "12187.5"
      ]
     },
     "execution_count": 1,
     "metadata": {},
     "output_type": "execute_result"
    }
   ],
   "source": [
    "import import_ipynb\n",
    "import simpleinterest\n",
    "g=float(input(\"enter the princi amount:  \"))\n",
    "h=float(input(\"enter the rate of interest:  \"))\n",
    "i=float(input(\"enter the time\"))\n",
    "simpleinterest.SI(g,h,i)"
   ]
  },
  {
   "cell_type": "code",
   "execution_count": null,
   "metadata": {},
   "outputs": [],
   "source": []
  }
 ],
 "metadata": {
  "kernelspec": {
   "display_name": "Python 3",
   "language": "python",
   "name": "python3"
  },
  "language_info": {
   "codemirror_mode": {
    "name": "ipython",
    "version": 3
   },
   "file_extension": ".py",
   "mimetype": "text/x-python",
   "name": "python",
   "nbconvert_exporter": "python",
   "pygments_lexer": "ipython3",
   "version": "3.7.4"
  }
 },
 "nbformat": 4,
 "nbformat_minor": 2
}
